{
 "cells": [
  {
   "cell_type": "code",
   "execution_count": 1,
   "metadata": {},
   "outputs": [],
   "source": [
    "import pandas as pd\n",
    "import os\n",
    "import matplotlib.pyplot as plt\n",
    "import numpy as np\n",
    "from sklearn.feature_extraction.text import CountVectorizer\n",
    "from sklearn.model_selection import GridSearchCV\n",
    "from sklearn import svm\n",
    "from collections import Counter"
   ]
  },
  {
   "cell_type": "code",
   "execution_count": 16,
   "metadata": {},
   "outputs": [
    {
     "data": {
      "text/plain": [
       "array([  2,   0,   0,   0,   2,   0,   2,  13,   8,   0,  35,  27,  21,\n",
       "        17,  38,  55,  82,  60,  81,  64,  65, 106, 105, 103, 153, 109,\n",
       "       130, 129, 114, 149, 113, 196, 106, 181, 218, 247, 218, 337, 219,\n",
       "       330, 399, 316, 282, 297, 380, 407, 325, 327, 185, 375])"
      ]
     },
     "execution_count": 16,
     "metadata": {},
     "output_type": "execute_result"
    }
   ],
   "source": [
    "data = pd.read_csv('dataset/dataCovidIndonesia.csv')\n",
    "data = data.loc[0:49, 'Kasus harian']\n",
    "data = np.genfromtxt(data, dtype= None)\n",
    "data"
   ]
  },
  {
   "cell_type": "code",
   "execution_count": 5,
   "metadata": {},
   "outputs": [],
   "source": [
    "pop_size=50"
   ]
  },
  {
   "cell_type": "code",
   "execution_count": 14,
   "metadata": {},
   "outputs": [
    {
     "data": {
      "text/plain": [
       "array([[0.74972145, 0.15518859, 0.80255048],\n",
       "       [0.48898035, 0.39235891, 0.42726053],\n",
       "       [0.73725128, 0.2285734 , 0.24518996],\n",
       "       [0.60920145, 0.94946603, 0.80014129],\n",
       "       [0.31074434, 0.42283812, 0.75088406],\n",
       "       [0.92558214, 0.79318618, 0.75037985],\n",
       "       [0.71284687, 0.84786048, 0.76511892],\n",
       "       [0.12198448, 0.42218058, 0.37894622],\n",
       "       [0.39902147, 0.72538047, 0.28721664],\n",
       "       [0.77896214, 0.27577749, 0.47622315],\n",
       "       [0.9208665 , 0.46311434, 0.27920176],\n",
       "       [0.17019477, 0.51103585, 0.36865723],\n",
       "       [0.26477746, 0.64841955, 0.81121582],\n",
       "       [0.10243913, 0.79510864, 0.98807495],\n",
       "       [0.32876265, 0.19322101, 0.62024201],\n",
       "       [0.24473095, 0.2453979 , 0.62173982],\n",
       "       [0.45233807, 0.76212127, 0.74263179],\n",
       "       [0.83144256, 0.51768679, 0.96445541],\n",
       "       [0.94153042, 0.45972057, 0.75068876],\n",
       "       [0.73048386, 0.37786886, 0.48543641],\n",
       "       [0.55284085, 0.64344971, 0.9671375 ],\n",
       "       [0.34786121, 0.60091625, 0.13160724],\n",
       "       [0.7173238 , 0.42525398, 0.23079546],\n",
       "       [0.82746584, 0.40672087, 0.70714948],\n",
       "       [0.43255995, 0.63883863, 0.41484652],\n",
       "       [0.36593567, 0.87785852, 0.5291259 ],\n",
       "       [0.70912533, 0.11727991, 0.54215732],\n",
       "       [0.72734951, 0.52604459, 0.49637158],\n",
       "       [0.30801176, 0.55935635, 0.95988301],\n",
       "       [0.32438762, 0.25295993, 0.8937066 ],\n",
       "       [0.19461546, 0.73598983, 0.74449963],\n",
       "       [0.33149506, 0.55290416, 0.72947108],\n",
       "       [0.65388067, 0.82085187, 0.87105502],\n",
       "       [0.76465794, 0.49889863, 0.72160307],\n",
       "       [0.45296244, 0.94007166, 0.61717631],\n",
       "       [0.30172103, 0.85959164, 0.64830373],\n",
       "       [0.46858679, 0.60353844, 0.52658712],\n",
       "       [0.34794074, 0.62906246, 0.59450583],\n",
       "       [0.10256173, 0.67689365, 0.44952603],\n",
       "       [0.13732908, 0.18515598, 0.45333431],\n",
       "       [0.67402568, 0.35955484, 0.86920933],\n",
       "       [0.46923328, 0.7118122 , 0.70917571],\n",
       "       [0.1694454 , 0.32357037, 0.61276643],\n",
       "       [0.9663149 , 0.64569825, 0.42434522],\n",
       "       [0.49900585, 0.25337345, 0.32588003],\n",
       "       [0.97823994, 0.16557792, 0.91295338],\n",
       "       [0.30837645, 0.7227434 , 0.28728401],\n",
       "       [0.72820624, 0.72533534, 0.48836293],\n",
       "       [0.80665482, 0.91392885, 0.32212943],\n",
       "       [0.66933334, 0.454636  , 0.73204444]])"
      ]
     },
     "execution_count": 14,
     "metadata": {},
     "output_type": "execute_result"
    }
   ],
   "source": [
    "gene_per_pop = 3\n",
    "population_size = (pop_size, gene_per_pop)\n",
    "gene=np.random.uniform(low = 0.1, high = 0.99, size = population_size)\n",
    "gene"
   ]
  },
  {
   "cell_type": "code",
   "execution_count": 23,
   "metadata": {},
   "outputs": [
    {
     "ename": "IndexError",
     "evalue": "index 3 is out of bounds for axis 0 with size 3",
     "output_type": "error",
     "traceback": [
      "\u001b[0;31m---------------------------------------------------------------------------\u001b[0m",
      "\u001b[0;31mIndexError\u001b[0m                                Traceback (most recent call last)",
      "\u001b[0;32m<ipython-input-23-d229025f6f9f>\u001b[0m in \u001b[0;36m<module>\u001b[0;34m\u001b[0m\n\u001b[1;32m      5\u001b[0m     \u001b[0;32mfor\u001b[0m \u001b[0mj\u001b[0m \u001b[0;32min\u001b[0m \u001b[0mrange\u001b[0m \u001b[0;34m(\u001b[0m\u001b[0;36m0\u001b[0m\u001b[0;34m,\u001b[0m\u001b[0mi\u001b[0m\u001b[0;34m)\u001b[0m\u001b[0;34m:\u001b[0m\u001b[0;34m\u001b[0m\u001b[0;34m\u001b[0m\u001b[0m\n\u001b[1;32m      6\u001b[0m         \u001b[0mgeneA\u001b[0m \u001b[0;34m=\u001b[0m \u001b[0;34m(\u001b[0m\u001b[0mdata\u001b[0m\u001b[0;34m[\u001b[0m\u001b[0mi\u001b[0m\u001b[0;34m]\u001b[0m\u001b[0;34m*\u001b[0m\u001b[0mgene\u001b[0m\u001b[0;34m[\u001b[0m\u001b[0mi\u001b[0m\u001b[0;34m]\u001b[0m\u001b[0;34m[\u001b[0m\u001b[0mj\u001b[0m\u001b[0;34m]\u001b[0m\u001b[0;34m)\u001b[0m\u001b[0;34m\u001b[0m\u001b[0;34m\u001b[0m\u001b[0m\n\u001b[0;32m----> 7\u001b[0;31m         \u001b[0mgeneB\u001b[0m \u001b[0;34m=\u001b[0m \u001b[0;34m(\u001b[0m\u001b[0mdata\u001b[0m\u001b[0;34m[\u001b[0m\u001b[0mi\u001b[0m\u001b[0;34m]\u001b[0m\u001b[0;34m*\u001b[0m\u001b[0mgene\u001b[0m\u001b[0;34m[\u001b[0m\u001b[0mi\u001b[0m\u001b[0;34m]\u001b[0m\u001b[0;34m[\u001b[0m\u001b[0mj\u001b[0m\u001b[0;34m+\u001b[0m\u001b[0;36m1\u001b[0m\u001b[0;34m]\u001b[0m\u001b[0;34m)\u001b[0m\u001b[0;34m\u001b[0m\u001b[0;34m\u001b[0m\u001b[0m\n\u001b[0m\u001b[1;32m      8\u001b[0m         \u001b[0mgeneC\u001b[0m \u001b[0;34m=\u001b[0m \u001b[0mgene\u001b[0m\u001b[0;34m[\u001b[0m\u001b[0mj\u001b[0m\u001b[0;34m+\u001b[0m\u001b[0;36m2\u001b[0m\u001b[0;34m]\u001b[0m\u001b[0;34m\u001b[0m\u001b[0;34m\u001b[0m\u001b[0m\n\u001b[1;32m      9\u001b[0m         \u001b[0mtotal\u001b[0m \u001b[0;34m=\u001b[0m \u001b[0mgeneA\u001b[0m \u001b[0;34m+\u001b[0m \u001b[0mgeneB\u001b[0m \u001b[0;34m+\u001b[0m \u001b[0mgeneC\u001b[0m\u001b[0;34m\u001b[0m\u001b[0;34m\u001b[0m\u001b[0m\n",
      "\u001b[0;31mIndexError\u001b[0m: index 3 is out of bounds for axis 0 with size 3"
     ]
    }
   ],
   "source": [
    "prediksi = []\n",
    "for i in range (0,49):\n",
    "    row = []\n",
    "    total = 0\n",
    "    for j in range (0,i):\n",
    "        geneA = (data[i]*gene[i][j])\n",
    "        geneB = (data[i]*gene[i][j+1])\n",
    "        geneC = gene[j+2]\n",
    "        total = geneA + geneB + geneC\n",
    "        j = j+3\n",
    "    row.append(total)\n",
    "prediksi.append(row)\n",
    "\n",
    "print(prediksi)"
   ]
  }
 ],
 "metadata": {
  "kernelspec": {
   "display_name": "Python 3",
   "language": "python",
   "name": "python3"
  },
  "language_info": {
   "codemirror_mode": {
    "name": "ipython",
    "version": 3
   },
   "file_extension": ".py",
   "mimetype": "text/x-python",
   "name": "python",
   "nbconvert_exporter": "python",
   "pygments_lexer": "ipython3",
   "version": "3.8.6"
  }
 },
 "nbformat": 4,
 "nbformat_minor": 4
}
