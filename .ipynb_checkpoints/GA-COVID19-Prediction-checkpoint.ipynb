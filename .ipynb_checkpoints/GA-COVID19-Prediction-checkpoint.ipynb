{
 "cells": [
  {
   "cell_type": "code",
   "execution_count": 1,
   "metadata": {},
   "outputs": [],
   "source": [
    "import pandas as pd\n",
    "import os\n",
    "import matplotlib.pyplot as plt\n",
    "import numpy as np"
   ]
  },
  {
   "cell_type": "code",
   "execution_count": 4,
   "metadata": {},
   "outputs": [
    {
     "data": {
      "text/plain": [
       "array([  2,   0,   0,   0,   2,   0,   2,  13,   8,   0,  35,  27,  21,\n",
       "        17,  38,  55,  82,  60,  81,  64,  65, 106, 105, 103, 153, 109,\n",
       "       130, 129, 114, 149, 113, 196, 106, 181, 218, 247, 218, 337, 219,\n",
       "       330, 399, 316, 282, 297, 380, 407, 325, 327, 185, 375])"
      ]
     },
     "execution_count": 4,
     "metadata": {},
     "output_type": "execute_result"
    }
   ],
   "source": [
    "data = pd.read_csv('dataset/dataCovidIndonesia.csv')\n",
    "data = data.loc[0:49, 'Kasus harian']\n",
    "data = np.genfromtxt(data, dtype= None)\n",
    "data"
   ]
  }
 ],
 "metadata": {
  "kernelspec": {
   "display_name": "Python 3",
   "language": "python",
   "name": "python3"
  },
  "language_info": {
   "codemirror_mode": {
    "name": "ipython",
    "version": 3
   },
   "file_extension": ".py",
   "mimetype": "text/x-python",
   "name": "python",
   "nbconvert_exporter": "python",
   "pygments_lexer": "ipython3",
   "version": "3.8.6"
  }
 },
 "nbformat": 4,
 "nbformat_minor": 4
}
