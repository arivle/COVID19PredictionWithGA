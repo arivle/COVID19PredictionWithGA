{
 "cells": [
  {
   "cell_type": "code",
   "execution_count": 1,
   "metadata": {},
   "outputs": [],
   "source": [
    "import pandas as pd\n",
    "import os\n",
    "import matplotlib.pyplot as plt\n",
    "import numpy as np\n",
    "from sklearn.feature_extraction.text import CountVectorizer\n",
    "from sklearn.model_selection import GridSearchCV\n",
    "from sklearn import svm\n",
    "from collections import Counter"
   ]
  },
  {
   "cell_type": "code",
   "execution_count": 4,
   "metadata": {},
   "outputs": [
    {
     "data": {
      "text/plain": [
       "0       2\n",
       "1       0\n",
       "2       0\n",
       "3       0\n",
       "4       2\n",
       "5       0\n",
       "6       2\n",
       "7      13\n",
       "8       8\n",
       "9       0\n",
       "10     35\n",
       "11     27\n",
       "12     21\n",
       "13     17\n",
       "14     38\n",
       "15     55\n",
       "16     82\n",
       "17     60\n",
       "18     81\n",
       "19     64\n",
       "20     65\n",
       "21    106\n",
       "22    105\n",
       "23    103\n",
       "24    153\n",
       "25    109\n",
       "26    130\n",
       "27    129\n",
       "28    114\n",
       "29    149\n",
       "30    113\n",
       "31    196\n",
       "32    106\n",
       "33    181\n",
       "34    218\n",
       "35    247\n",
       "36    218\n",
       "37    337\n",
       "38    219\n",
       "39    330\n",
       "40    399\n",
       "41    316\n",
       "42    282\n",
       "43    297\n",
       "44    380\n",
       "45    407\n",
       "46    325\n",
       "47    327\n",
       "48    185\n",
       "49    375\n",
       "Name: Kasus harian, dtype: object"
      ]
     },
     "execution_count": 4,
     "metadata": {},
     "output_type": "execute_result"
    }
   ],
   "source": [
    "data = pd.read_csv('dataset/dataCovidIndonesia.csv')\n",
    "data.loc[0:49, 'Kasus harian']"
   ]
  },
  {
   "cell_type": "code",
   "execution_count": 5,
   "metadata": {},
   "outputs": [],
   "source": [
    "pop_size=50"
   ]
  },
  {
   "cell_type": "code",
   "execution_count": 11,
   "metadata": {},
   "outputs": [],
   "source": [
    "gene_per_pop = 3\n",
    "population_size = (pop_size, gene_per_pop)\n",
    "gene=np.random.uniform(low = 0.1, high = 0.99, size = population_size)"
   ]
  },
  {
   "cell_type": "code",
   "execution_count": null,
   "metadata": {},
   "outputs": [],
   "source": []
  }
 ],
 "metadata": {
  "kernelspec": {
   "display_name": "Python 3",
   "language": "python",
   "name": "python3"
  },
  "language_info": {
   "codemirror_mode": {
    "name": "ipython",
    "version": 3
   },
   "file_extension": ".py",
   "mimetype": "text/x-python",
   "name": "python",
   "nbconvert_exporter": "python",
   "pygments_lexer": "ipython3",
   "version": "3.8.6"
  }
 },
 "nbformat": 4,
 "nbformat_minor": 4
}
